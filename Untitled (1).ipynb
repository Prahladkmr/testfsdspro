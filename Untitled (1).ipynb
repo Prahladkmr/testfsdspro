{
 "cells": [
  {
   "cell_type": "code",
   "execution_count": 1,
   "id": "aeaba476-1a28-4f58-a07b-7ce87bd7532b",
   "metadata": {},
   "outputs": [],
   "source": [
    "#question No. 1 swapping of two number without using third variable"
   ]
  },
  {
   "cell_type": "code",
   "execution_count": 2,
   "id": "381e46cd-00e3-4da1-b096-972c0413b95b",
   "metadata": {},
   "outputs": [],
   "source": [
    "x,y=5,3"
   ]
  },
  {
   "cell_type": "code",
   "execution_count": 3,
   "id": "616c429f-4b22-4e0f-8139-dd8f588f98f8",
   "metadata": {},
   "outputs": [
    {
     "data": {
      "text/plain": [
       "5"
      ]
     },
     "execution_count": 3,
     "metadata": {},
     "output_type": "execute_result"
    }
   ],
   "source": [
    "x"
   ]
  },
  {
   "cell_type": "code",
   "execution_count": 4,
   "id": "7f7e15fe-6904-42d8-a55c-18b727579a02",
   "metadata": {},
   "outputs": [
    {
     "data": {
      "text/plain": [
       "3"
      ]
     },
     "execution_count": 4,
     "metadata": {},
     "output_type": "execute_result"
    }
   ],
   "source": [
    "y"
   ]
  },
  {
   "cell_type": "code",
   "execution_count": 5,
   "id": "61ddc8cd-7494-4209-8b2c-4b6d932cda8f",
   "metadata": {},
   "outputs": [],
   "source": [
    "y,x=x,y"
   ]
  },
  {
   "cell_type": "code",
   "execution_count": 6,
   "id": "d624d0b6-d942-4a7a-a1fc-741a91047324",
   "metadata": {},
   "outputs": [
    {
     "data": {
      "text/plain": [
       "3"
      ]
     },
     "execution_count": 6,
     "metadata": {},
     "output_type": "execute_result"
    }
   ],
   "source": [
    "x"
   ]
  },
  {
   "cell_type": "code",
   "execution_count": 7,
   "id": "d0111596-8a00-4a16-b717-c0fb543eea1b",
   "metadata": {},
   "outputs": [
    {
     "data": {
      "text/plain": [
       "5"
      ]
     },
     "execution_count": 7,
     "metadata": {},
     "output_type": "execute_result"
    }
   ],
   "source": [
    "y"
   ]
  },
  {
   "cell_type": "code",
   "execution_count": 8,
   "id": "4a678512-9991-4860-ab56-fb7f4dbf7711",
   "metadata": {},
   "outputs": [],
   "source": [
    "#question No. 2 calculate area of rectangular"
   ]
  },
  {
   "cell_type": "code",
   "execution_count": 13,
   "id": "64330292-314d-4dc2-9ab8-8750ce5785d7",
   "metadata": {},
   "outputs": [
    {
     "name": "stdin",
     "output_type": "stream",
     "text": [
      " 6.76\n"
     ]
    }
   ],
   "source": [
    "length=float(input())"
   ]
  },
  {
   "cell_type": "code",
   "execution_count": 10,
   "id": "c609ba48-ac81-4907-b48b-7645069263d4",
   "metadata": {},
   "outputs": [
    {
     "name": "stdin",
     "output_type": "stream",
     "text": [
      " 7.87\n"
     ]
    }
   ],
   "source": [
    "width=float(input())"
   ]
  },
  {
   "cell_type": "code",
   "execution_count": 11,
   "id": "5e51b065-afd6-44b4-a78f-cb555817ddf4",
   "metadata": {},
   "outputs": [],
   "source": [
    "area_of_rectangular=length*width"
   ]
  },
  {
   "cell_type": "code",
   "execution_count": 12,
   "id": "7c25485f-3540-49a7-b8c8-a3c9098316ca",
   "metadata": {},
   "outputs": [
    {
     "data": {
      "text/plain": [
       "45.331199999999995"
      ]
     },
     "execution_count": 12,
     "metadata": {},
     "output_type": "execute_result"
    }
   ],
   "source": [
    "area_of_rectangular"
   ]
  },
  {
   "cell_type": "code",
   "execution_count": 14,
   "id": "4d6eb6d5-03bd-4261-9089-58c375ba04cf",
   "metadata": {},
   "outputs": [],
   "source": [
    "#question no 3 convert temp from celsius into fahrenheit"
   ]
  },
  {
   "cell_type": "code",
   "execution_count": 15,
   "id": "14039038-c753-4d8d-a4f8-546024834576",
   "metadata": {},
   "outputs": [
    {
     "name": "stdin",
     "output_type": "stream",
     "text": [
      "enter temp in celsius 37.5\n"
     ]
    }
   ],
   "source": [
    "temp_in_celsius=float(input(\"enter temp in celsius\"))"
   ]
  },
  {
   "cell_type": "code",
   "execution_count": 16,
   "id": "32a0aee6-7576-4128-98ee-9deaead42520",
   "metadata": {},
   "outputs": [],
   "source": [
    "temp_in_fahrenheit=(temp_in_celsius*1.8)+32"
   ]
  },
  {
   "cell_type": "code",
   "execution_count": 17,
   "id": "bef151db-5182-49c8-b105-0693b958ed9b",
   "metadata": {},
   "outputs": [
    {
     "data": {
      "text/plain": [
       "99.5"
      ]
     },
     "execution_count": 17,
     "metadata": {},
     "output_type": "execute_result"
    }
   ],
   "source": [
    "temp_in_fahrenheit"
   ]
  },
  {
   "cell_type": "code",
   "execution_count": 18,
   "id": "116842ce-8741-44ad-a310-fd9e90000852",
   "metadata": {},
   "outputs": [],
   "source": [
    "#string based question"
   ]
  },
  {
   "cell_type": "code",
   "execution_count": 4,
   "id": "53bef6a4-4e6a-4999-8cc0-2f9b41f0892b",
   "metadata": {},
   "outputs": [],
   "source": [
    "#01 calculate the length of string"
   ]
  },
  {
   "cell_type": "code",
   "execution_count": 5,
   "id": "a4bffb74-5a02-432b-954d-bdf0c97971fe",
   "metadata": {},
   "outputs": [
    {
     "name": "stdin",
     "output_type": "stream",
     "text": [
      " prahlad\n"
     ]
    }
   ],
   "source": [
    "string =input()"
   ]
  },
  {
   "cell_type": "code",
   "execution_count": 7,
   "id": "6a3a7427-603a-4917-b182-05d6a3a39faf",
   "metadata": {},
   "outputs": [
    {
     "name": "stdout",
     "output_type": "stream",
     "text": [
      "7\n"
     ]
    }
   ],
   "source": [
    "print(len(string))"
   ]
  },
  {
   "cell_type": "code",
   "execution_count": 8,
   "id": "604ae7ca-9da8-4315-be27-0be1440724d6",
   "metadata": {},
   "outputs": [
    {
     "name": "stdin",
     "output_type": "stream",
     "text": [
      " my name is prahlad kumar\n"
     ]
    }
   ],
   "source": [
    "sentence=input() #02 calculate the vowel(a,e,i,o,u) in string"
   ]
  },
  {
   "cell_type": "code",
   "execution_count": 9,
   "id": "fa5a0343-9acd-49ec-8579-e959d798fecd",
   "metadata": {},
   "outputs": [],
   "source": [
    "count=0"
   ]
  },
  {
   "cell_type": "code",
   "execution_count": 15,
   "id": "375e8456-d7fa-47d5-8959-93c01cf4e43d",
   "metadata": {},
   "outputs": [],
   "source": [
    "if 'a' in sentence:\n",
    "    count+=1\n",
    "if 'e' in sentence:\n",
    "    count+=1\n",
    "if 'i' in sentence:\n",
    "    count+=1\n",
    "if 'o' in sentence:\n",
    "    count+=1\n",
    "if 'u' in sentence:\n",
    "    count+=1"
   ]
  },
  {
   "cell_type": "code",
   "execution_count": 16,
   "id": "2f2da550-e3d4-47d9-b68d-e51bf46a1150",
   "metadata": {},
   "outputs": [
    {
     "data": {
      "text/plain": [
       "7"
      ]
     },
     "execution_count": 16,
     "metadata": {},
     "output_type": "execute_result"
    }
   ],
   "source": [
    "count"
   ]
  },
  {
   "cell_type": "code",
   "execution_count": 17,
   "id": "a86681ac-5b26-492d-bcea-e41dc21be2c3",
   "metadata": {},
   "outputs": [],
   "source": [
    "#03 reverse of a string"
   ]
  },
  {
   "cell_type": "code",
   "execution_count": 20,
   "id": "352dd750-372f-42db-9578-2e4f3d0062e1",
   "metadata": {},
   "outputs": [],
   "source": [
    "string=\"pwskills\""
   ]
  },
  {
   "cell_type": "code",
   "execution_count": 21,
   "id": "d6c106c3-101f-4c42-bc56-5202eea20cca",
   "metadata": {},
   "outputs": [
    {
     "data": {
      "text/plain": [
       "'sllikswp'"
      ]
     },
     "execution_count": 21,
     "metadata": {},
     "output_type": "execute_result"
    }
   ],
   "source": [
    "string[::-1]"
   ]
  },
  {
   "cell_type": "code",
   "execution_count": 22,
   "id": "88923f09-215b-49d5-b08f-1a62c420fdc4",
   "metadata": {},
   "outputs": [],
   "source": [
    "#04 check string is palindrome"
   ]
  },
  {
   "cell_type": "code",
   "execution_count": 23,
   "id": "41369690-680e-4e5d-a556-18e014ebda50",
   "metadata": {},
   "outputs": [
    {
     "name": "stdin",
     "output_type": "stream",
     "text": [
      " madam\n"
     ]
    }
   ],
   "source": [
    "string=input()"
   ]
  },
  {
   "cell_type": "code",
   "execution_count": 24,
   "id": "0e3b9a8b-cfac-4886-b925-7953e27202aa",
   "metadata": {},
   "outputs": [],
   "source": [
    "string1=string[::-1]"
   ]
  },
  {
   "cell_type": "code",
   "execution_count": 25,
   "id": "7463a0b1-3055-4f47-b908-da6167a1201e",
   "metadata": {},
   "outputs": [
    {
     "name": "stdout",
     "output_type": "stream",
     "text": [
      "YES\n"
     ]
    }
   ],
   "source": [
    "if string == string1:\n",
    "    print(\"YES\")\n",
    "else:\n",
    "    print(\"NO\")"
   ]
  },
  {
   "cell_type": "code",
   "execution_count": 26,
   "id": "51cd764d-7660-41fa-8475-f176fab1f243",
   "metadata": {},
   "outputs": [],
   "source": [
    "#05"
   ]
  },
  {
   "cell_type": "code",
   "execution_count": 1,
   "id": "9ff7a35d-47f4-483f-9e9e-58a155c1f15a",
   "metadata": {},
   "outputs": [
    {
     "name": "stdin",
     "output_type": "stream",
     "text": [
      " pwskill is a good platform for coding\n"
     ]
    }
   ],
   "source": [
    "string=input()"
   ]
  },
  {
   "cell_type": "code",
   "execution_count": 2,
   "id": "ef5d1769-33ff-4ddb-807a-f0ca0dc8a170",
   "metadata": {},
   "outputs": [
    {
     "data": {
      "text/plain": [
       "'pwskillisagoodplatformforcoding'"
      ]
     },
     "execution_count": 2,
     "metadata": {},
     "output_type": "execute_result"
    }
   ],
   "source": [
    "string.replace(\" \",\"\")"
   ]
  },
  {
   "cell_type": "code",
   "execution_count": null,
   "id": "c27e5a24-b706-4fc4-9d1e-951ea609fc8a",
   "metadata": {},
   "outputs": [],
   "source": []
  }
 ],
 "metadata": {
  "kernelspec": {
   "display_name": "Python 3 (ipykernel)",
   "language": "python",
   "name": "python3"
  },
  "language_info": {
   "codemirror_mode": {
    "name": "ipython",
    "version": 3
   },
   "file_extension": ".py",
   "mimetype": "text/x-python",
   "name": "python",
   "nbconvert_exporter": "python",
   "pygments_lexer": "ipython3",
   "version": "3.10.8"
  }
 },
 "nbformat": 4,
 "nbformat_minor": 5
}
